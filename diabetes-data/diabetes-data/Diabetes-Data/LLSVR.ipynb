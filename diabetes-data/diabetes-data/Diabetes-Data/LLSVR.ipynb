{
 "cells": [
  {
   "cell_type": "code",
   "execution_count": 1047,
   "metadata": {},
   "outputs": [],
   "source": [
    "import numpy as np\n",
    "import matplotlib.pyplot as plt\n",
    "import pandas as pd\n",
    "from sklearn.model_selection import train_test_split\n",
    "import category_encoders as ce\n",
    "from sklearn.metrics import mean_squared_error, mean_absolute_error, r2_score\n",
    "from sklearn.compose import ColumnTransformer\n",
    "from sklearn.preprocessing import OneHotEncoder\n",
    "from sklearn.metrics import mean_squared_error, mean_absolute_error, r2_score\n",
    "from sklearn.pipeline import make_pipeline"
   ]
  },
  {
   "cell_type": "code",
   "execution_count": 1048,
   "metadata": {},
   "outputs": [
    {
     "data": {
      "image/png": "[encoded data removed]",
      "text/plain": [
       "<Figure size 640x480 with 1 Axes>"
      ]
     },
     "metadata": {},
     "output_type": "display_data"
    }
   ],
   "source": [
    "import matplotlib.pyplot as plt\n",
    "\n",
    "# Sample data\n",
    "x = [1, 2, 3, 4, 10]\n",
    "y = [5, 7, 2, 8, 4]\n",
    "\n",
    "# Create a scatter plot\n",
    "plt.scatter(x, y)\n",
    "\n",
    "# Set chart title and axis labels\n",
    "plt.title('Sample Scatter Plot')\n",
    "plt.xlabel('X Axis')\n",
    "plt.ylabel('Y Axis')\n",
    "\n",
    "# Show the plot\n",
    "plt.show()\n"
   ]
  },
  {
   "cell_type": "code",
   "execution_count": 1049,
   "metadata": {},
   "outputs": [
    {
     "data": {
      "text/html": [
       "<div>\n",
       "<style scoped>\n",
       "    .dataframe tbody tr th:only-of-type {\n",
       "        vertical-align: middle;\n",
       "    }\n",
       "\n",
       "    .dataframe tbody tr th {\n",
       "        vertical-align: top;\n",
       "    }\n",
       "\n",
       "    .dataframe thead th {\n",
       "        text-align: right;\n",
       "    }\n",
       "</style>\n",
       "<table border=\"1\" class=\"dataframe\">\n",
       "  <thead>\n",
       "    <tr style=\"text-align: right;\">\n",
       "      <th></th>\n",
       "      <th>Date</th>\n",
       "      <th>Time</th>\n",
       "      <th>Category</th>\n",
       "      <th>Target</th>\n",
       "    </tr>\n",
       "  </thead>\n",
       "  <tbody>\n",
       "    <tr>\n",
       "      <th>0</th>\n",
       "      <td>27-03-1988</td>\n",
       "      <td>08:00:00</td>\n",
       "      <td>58</td>\n",
       "      <td>134</td>\n",
       "    </tr>\n",
       "    <tr>\n",
       "      <th>1</th>\n",
       "      <td>27-03-1988</td>\n",
       "      <td>08:00:00</td>\n",
       "      <td>34</td>\n",
       "      <td>20</td>\n",
       "    </tr>\n",
       "    <tr>\n",
       "      <th>2</th>\n",
       "      <td>27-03-1988</td>\n",
       "      <td>12:00:00</td>\n",
       "      <td>60</td>\n",
       "      <td>158</td>\n",
       "    </tr>\n",
       "    <tr>\n",
       "      <th>3</th>\n",
       "      <td>27-03-1988</td>\n",
       "      <td>18:00:00</td>\n",
       "      <td>62</td>\n",
       "      <td>258</td>\n",
       "    </tr>\n",
       "    <tr>\n",
       "      <th>4</th>\n",
       "      <td>28-03-1988</td>\n",
       "      <td>08:00:00</td>\n",
       "      <td>58</td>\n",
       "      <td>115</td>\n",
       "    </tr>\n",
       "    <tr>\n",
       "      <th>...</th>\n",
       "      <td>...</td>\n",
       "      <td>...</td>\n",
       "      <td>...</td>\n",
       "      <td>...</td>\n",
       "    </tr>\n",
       "    <tr>\n",
       "      <th>395</th>\n",
       "      <td>27-07-1988</td>\n",
       "      <td>08:00:00</td>\n",
       "      <td>58</td>\n",
       "      <td>139</td>\n",
       "    </tr>\n",
       "    <tr>\n",
       "      <th>396</th>\n",
       "      <td>27-07-1988</td>\n",
       "      <td>08:00:00</td>\n",
       "      <td>34</td>\n",
       "      <td>12</td>\n",
       "    </tr>\n",
       "    <tr>\n",
       "      <th>397</th>\n",
       "      <td>27-07-1988</td>\n",
       "      <td>12:00:00</td>\n",
       "      <td>60</td>\n",
       "      <td>107</td>\n",
       "    </tr>\n",
       "    <tr>\n",
       "      <th>398</th>\n",
       "      <td>27-07-1988</td>\n",
       "      <td>18:00:00</td>\n",
       "      <td>62</td>\n",
       "      <td>102</td>\n",
       "    </tr>\n",
       "    <tr>\n",
       "      <th>399</th>\n",
       "      <td>28-07-1988</td>\n",
       "      <td>08:00:00</td>\n",
       "      <td>58</td>\n",
       "      <td>73</td>\n",
       "    </tr>\n",
       "  </tbody>\n",
       "</table>\n",
       "<p>400 rows × 4 columns</p>\n",
       "</div>"
      ],
      "text/plain": [
       "           Date      Time Category Target\n",
       "0    27-03-1988  08:00:00       58    134\n",
       "1    27-03-1988  08:00:00       34     20\n",
       "2    27-03-1988  12:00:00       60    158\n",
       "3    27-03-1988  18:00:00       62    258\n",
       "4    28-03-1988  08:00:00       58    115\n",
       "..          ...       ...      ...    ...\n",
       "395  27-07-1988  08:00:00       58    139\n",
       "396  27-07-1988  08:00:00       34     12\n",
       "397  27-07-1988  12:00:00       60    107\n",
       "398  27-07-1988  18:00:00       62    102\n",
       "399  28-07-1988  08:00:00       58     73\n",
       "\n",
       "[400 rows x 4 columns]"
      ]
     },
     "execution_count": 1049,
     "metadata": {},
     "output_type": "execute_result"
    }
   ],
   "source": [
    "data=pd.read_fwf('data-01')\n",
    "# print(data)\n",
    "data[['Date','Time','Category','Target']] = data['Date\\tTime\\tCategory\\tTarget'].str.split('\\t',expand=True)\n",
    "data.drop(columns=['Date\\tTime\\tCategory\\tTarget'], inplace = True)\n",
    "data"
   ]
  },
  {
   "cell_type": "code",
   "execution_count": 1050,
   "metadata": {},
   "outputs": [
    {
     "name": "stdout",
     "output_type": "stream",
     "text": [
      "           Date      Time Category Target Hours Minutes Seconds date Month  \\\n",
      "0    27-03-1988  08:00:00       58    134    08      00      00   27    03   \n",
      "1    27-03-1988  08:00:00       34     20    08      00      00   27    03   \n",
      "2    27-03-1988  12:00:00       60    158    12      00      00   27    03   \n",
      "3    27-03-1988  18:00:00       62    258    18      00      00   27    03   \n",
      "4    28-03-1988  08:00:00       58    115    08      00      00   28    03   \n",
      "..          ...       ...      ...    ...   ...     ...     ...  ...   ...   \n",
      "395  27-07-1988  08:00:00       58    139    08      00      00   27    07   \n",
      "396  27-07-1988  08:00:00       34     12    08      00      00   27    07   \n",
      "397  27-07-1988  12:00:00       60    107    12      00      00   27    07   \n",
      "398  27-07-1988  18:00:00       62    102    18      00      00   27    07   \n",
      "399  28-07-1988  08:00:00       58     73    08      00      00   28    07   \n",
      "\n",
      "     year  \n",
      "0    1988  \n",
      "1    1988  \n",
      "2    1988  \n",
      "3    1988  \n",
      "4    1988  \n",
      "..    ...  \n",
      "395  1988  \n",
      "396  1988  \n",
      "397  1988  \n",
      "398  1988  \n",
      "399  1988  \n",
      "\n",
      "[400 rows x 10 columns]\n"
     ]
    }
   ],
   "source": [
    "# Define a function to split the time string and convert to integers\n",
    "def split_time(time_str):\n",
    "    hours_str, minutes_str, seconds_str = time_str.split(':')\n",
    "    hours = (hours_str)\n",
    "    minutes = (minutes_str)\n",
    "    seconds = (seconds_str)\n",
    "    return hours, minutes, seconds\n",
    "\n",
    "# Apply the function to the Time column of the DataFrame\n",
    "data[['Hours', 'Minutes','Seconds']] = data['Time'].apply(lambda x: pd.Series(split_time(x)))\n",
    "\n",
    "\n",
    "def split_date(date_str):\n",
    "    date_str, month_str, year_str = date_str.split('-')\n",
    "    date = (date_str)\n",
    "    month = (month_str)\n",
    "    year = (year_str)\n",
    "    return date, month, year\n",
    "\n",
    "# Apply the function to the Time column of the DataFrame\n",
    "data[['date', 'Month','year']] = data['Date'].apply(lambda x: pd.Series(split_date(x)))\n",
    "\n",
    "# Print the result\n",
    "print(data)"
   ]
  },
  {
   "cell_type": "code",
   "execution_count": 1051,
   "metadata": {},
   "outputs": [
    {
     "name": "stdout",
     "output_type": "stream",
     "text": [
      "    Category Target Hours Minutes Seconds date Month  year\n",
      "0         58    134    08      00      00   27    03  1988\n",
      "1         34     20    08      00      00   27    03  1988\n",
      "2         60    158    12      00      00   27    03  1988\n",
      "3         62    258    18      00      00   27    03  1988\n",
      "4         58    115    08      00      00   28    03  1988\n",
      "..       ...    ...   ...     ...     ...  ...   ...   ...\n",
      "395       58    139    08      00      00   27    07  1988\n",
      "396       34     12    08      00      00   27    07  1988\n",
      "397       60    107    12      00      00   27    07  1988\n",
      "398       62    102    18      00      00   27    07  1988\n",
      "399       58     73    08      00      00   28    07  1988\n",
      "\n",
      "[400 rows x 8 columns]\n",
      "    Category  time month Target\n",
      "0         58   480    03    134\n",
      "1         34   480    03     20\n",
      "2         60   720    03    158\n",
      "3         62  1080    03    258\n",
      "4         58   480    03    115\n",
      "..       ...   ...   ...    ...\n",
      "395       58   480    07    139\n",
      "396       34   480    07     12\n",
      "397       60   720    07    107\n",
      "398       62  1080    07    102\n",
      "399       58   480    07     73\n",
      "\n",
      "[400 rows x 4 columns]\n"
     ]
    }
   ],
   "source": [
    "# concatenating the DataFrames\n",
    "det = pd.concat([data['Hours'], data['Minutes']], join = 'outer', axis = 1)\n",
    "\n",
    "# displaying the DataFrame\n",
    "# print(det)\n",
    "data=data.drop(['Date','Time'], axis=1)\n",
    "print(data)\n",
    "data['time'] = (data['Hours'].astype(int)*60) + data['Minutes'].astype(int)\n",
    "data['target'] = data['Target']\n",
    "data=data.drop(['Hours','Minutes','Seconds','Target'], axis=1)\n",
    "data=data.drop(['date','year'], axis=1)\n",
    "data['month']=data['Month']\n",
    "data['Target']=data['target']\n",
    "data=data.drop(['Month','target'],axis=1)\n",
    "print(data)\n"
   ]
  },
  {
   "cell_type": "code",
   "execution_count": 1052,
   "metadata": {},
   "outputs": [],
   "source": [
    "X = data.iloc[:, 0:3].values\n",
    "y = data.iloc[:, -1].values\n",
    "y = y.reshape(-1,1)\n",
    "X_train, X_test, y_train, y_test=train_test_split(X,y,test_size=0.2,random_state=42)\n",
    "# print(X_train)\n"
   ]
  },
  {
   "cell_type": "code",
   "execution_count": 1053,
   "metadata": {},
   "outputs": [],
   "source": [
    "from sklearn.preprocessing import StandardScaler\n",
    "sc = StandardScaler()\n",
    "X_train = sc.fit_transform(X_train)\n",
    "X_test = sc.transform(X_test)\n",
    "y_train = sc.fit_transform(y_train)\n",
    "y_test = sc.transform(y_test)"
   ]
  },
  {
   "cell_type": "code",
   "execution_count": 1054,
   "metadata": {},
   "outputs": [
    {
     "data": {
      "text/plain": [
       "(320, 3)"
      ]
     },
     "execution_count": 1054,
     "metadata": {},
     "output_type": "execute_result"
    }
   ],
   "source": [
    "X_train.shape"
   ]
  },
  {
   "cell_type": "code",
   "execution_count": 1055,
   "metadata": {},
   "outputs": [
    {
     "name": "stdout",
     "output_type": "stream",
     "text": [
      "MSE: 0.34603893439938\n",
      "RMSE: 0.5882507410954788\n",
      "MAE: 0.37175228106249286\n",
      "R2 score: 0.6727752175521566\n",
      "(3, 1)\n"
     ]
    },
    {
     "name": "stderr",
     "output_type": "stream",
     "text": [
      "c:\\Users\\ayush\\AppData\\Local\\Programs\\Python\\Python310\\lib\\site-packages\\sklearn\\utils\\validation.py:1143: DataConversionWarning: A column-vector y was passed when a 1d array was expected. Please change the shape of y to (n_samples, ), for example using ravel().\n",
      "  y = column_or_1d(y, warn=True)\n"
     ]
    }
   ],
   "source": [
    "from sklearn.linear_model import SGDRegressor\n",
    "\n",
    "# Initialize the SGDRegressor with desired hyperparameters\n",
    "# regressor = SGDRegressor(loss='squared_error', penalty='l2', max_iter=1000, tol=1e-3)\n",
    "regressor = SGDRegressor(penalty='l2', alpha = 0.1)\n",
    "# Train the model with initial data using fit method\n",
    "regressor.fit(X_train, y_train) \n",
    "\n",
    "# Taking the predicted values for the Test values\n",
    "y_pred_sgd=regressor.predict(X_test)\n",
    "\n",
    "# Calculation of Accuracy of the model\n",
    "mse = mean_squared_error(y_test, y_pred_poly)\n",
    "rmse = np.sqrt(mse)\n",
    "mae = mean_absolute_error(y_test, y_pred_poly)\n",
    "r2 = r2_score(y_test, y_pred_poly)\n",
    "print('MSE:', mse)\n",
    "print('RMSE:', rmse)\n",
    "print('MAE:', mae)\n",
    "print('R2 score:', r2)"
   ]
  },
  {
   "attachments": {},
   "cell_type": "markdown",
   "metadata": {},
   "source": [
    "# Predicting for a value"
   ]
  },
  {
   "cell_type": "code",
   "execution_count": 1057,
   "metadata": {},
   "outputs": [
    {
     "name": "stdout",
     "output_type": "stream",
     "text": [
      "(3, 1)\n",
      "[[180.76347097]]\n"
     ]
    }
   ],
   "source": [
    "X_p = np.array([[58.0,480.0,3.0]]).reshape(3, 1)\n",
    "print(X_p.shape)\n",
    "X_p = sc.transform(X_p)\n",
    "print(X_p.shape)\n",
    "y_pred= regressor.predict(X_p.reshape(1 , 3))\n",
    "y_pred= y_pred.reshape(1,-1)\n",
    "# Reverse the scaling of predicted values\n",
    "y_pred = sc.inverse_transform(y_pred)\n",
    "print(y_pred)"
   ]
  },
  {
   "cell_type": "code",
   "execution_count": null,
   "metadata": {},
   "outputs": [],
   "source": [
    "for i in range(2,71):\n",
    "    if(i<=9):\n",
    "        data=pd.read_fwf('data-0'+str(i))\n",
    "    elif(i != 29 and i != 51):\n",
    "        data=pd.read_fwf('data-'+str(i))\n",
    "    else:\n",
    "        continue\n",
    "\n",
    "    # print(data)\n",
    "    data[['Date','Time','Category','Target']] = data['Date\\tTime\\tCategory\\tTarget'].str.split('\\t',expand=True)\n",
    "    \n",
    "    data.drop(columns=['Date\\tTime\\tCategory\\tTarget'], inplace = True)\n",
    "    \n",
    "    def split_time(time_str):\n",
    "        hours_str, minutes_str, seconds_str = time_str.split(':')\n",
    "        hours = (hours_str)\n",
    "        minutes = (minutes_str)\n",
    "        seconds = (seconds_str)\n",
    "    \n",
    "        return hours, minutes, seconds\n",
    "    #Apply the function to the Time column of the DataFrame\n",
    "    data[['Hours', 'Minutes','Seconds']] = data['Time'].apply(lambda x: pd.Series(split_time(x)))\n",
    "    \n",
    "    data=data.drop(['Time'], axis=1)\n",
    "    # print(data)\n",
    "    data['time'] = (data['Hours'].astype(int)*60) + data['Minutes'].astype(int)\n",
    "    # print(data)\n",
    "    \n",
    "    data=data.drop(['Hours','Minutes','Seconds'], axis=1)\n",
    "    if(i<=9):\n",
    "        print('data-0'+str(i))\n",
    "    else:\n",
    "        print('data-'+str(i))\n",
    "    # print(data)\n",
    "    def split_date(date_str):\n",
    "        date_str, month_str, year_str = date_str.split('-')\n",
    "        date = (date_str)\n",
    "        month = (month_str)\n",
    "        year = (year_str)\n",
    "        return date, month, year\n",
    "\n",
    "    # Apply the function to the Time column of the DataFrame\n",
    "    data[['date', 'Month','year']] = data['Date'].apply(lambda x: pd.Series(split_date(x)))\n",
    "    data['month']=data['Month']\n",
    "    data=data.drop(['Date','date','year','Month'],axis=1)\n",
    "    data['target'] = data['Target']\n",
    "    data=data.drop(['Target'],axis=1)\n",
    "\n",
    "\n",
    "\n",
    "    # Print the result\n",
    "    # print(data)\n",
    "    data=data.dropna()\n",
    "    # plt.figure()\n",
    "    plt.scatter(data['month'],data['target'] )\n",
    "    plt.title('Year: 1988')\n",
    "    plt.xlabel('Month')\n",
    "    plt.ylabel('Sugar Value')\n",
    "    \n",
    "    X_new = data.iloc[:, 0:-1].values\n",
    "    y_new = data.iloc[:, -1].values\n",
    "    y_new = y_new.reshape(-1,1)\n",
    "    print(X_new)\n",
    "    X_new = sc.fit_transform(X_new)\n",
    "    y_new = sc.fit_transform(y_new)\n",
    "    for j in range(len(X_new)):\n",
    "        x_i = X_new[i].reshape(1, -1)\n",
    "        y_i = y_new[i]\n",
    "        # if(i==3 and data['month']==1):\n",
    "        #     break\n",
    "        regressor.partial_fit(x_i, [y_i])\n",
    "    \n",
    "    \n",
    "    \n",
    "\n",
    "\n",
    "\n"
   ]
  },
  {
   "attachments": {},
   "cell_type": "markdown",
   "metadata": {},
   "source": [
    "# Predicting the same value after lifelong training"
   ]
  },
  {
   "cell_type": "code",
   "execution_count": 1059,
   "metadata": {},
   "outputs": [
    {
     "name": "stdout",
     "output_type": "stream",
     "text": [
      "(3, 1)\n",
      "(3, 1)\n",
      "[[29.78740734]]\n"
     ]
    }
   ],
   "source": [
    "X_p = np.array([[58.0,480.0,3.0]]).reshape(3, 1)\n",
    "print(X_p.shape)\n",
    "\n",
    "X_p = sc.transform(X_p)\n",
    "print(X_p.shape)\n",
    "y_pred= regressor.predict(X_p.reshape(1 , 3))\n",
    "y_pred= y_pred.reshape(1,-1)\n",
    "# Reverse the scaling of predicted values\n",
    "y_pred = sc.inverse_transform(y_pred)\n",
    "print(y_pred)"
   ]
  }
 ],
 "metadata": {
  "kernelspec": {
   "display_name": "Python 3",
   "language": "python",
   "name": "python3"
  },
  "language_info": {
   "codemirror_mode": {
    "name": "ipython",
    "version": 3
   },
   "file_extension": ".py",
   "mimetype": "text/x-python",
   "name": "python",
   "nbconvert_exporter": "python",
   "pygments_lexer": "ipython3",
   "version": "3.10.10"
  },
  "orig_nbformat": 4
 },
 "nbformat": 4,
 "nbformat_minor": 2
}
